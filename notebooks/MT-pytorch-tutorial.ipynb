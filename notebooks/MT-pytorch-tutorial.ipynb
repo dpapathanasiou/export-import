{
 "cells": [
  {
   "cell_type": "markdown",
   "metadata": {},
   "source": [
    "# About\n",
    "\n",
    "A sketch of the [machine translation tutorial](https://pytorch.org/tutorials/intermediate/seq2seq_translation_tutorial.html) from the [PyTorch Tutorials](https://pytorch.org/tutorials/index.html).\n",
    "\n",
    "It's the closest analogy to automated document conversion, so this is an attempt to study its internals.\n",
    "\n",
    "## Model\n",
    "\n",
    "This is a sequence-to-sequence (seq2seq) model, consisting of a pair of [recurrent neural networks (RNN)](https://en.wikipedia.org/wiki/Recurrent_neural_network), the encoder and decoder. \n",
    "\n",
    "The encoder reads an input sequence and outputs a single vector, and the decoder reads that vector to produce an output sequence.\n",
    "\n",
    "![diagram](images/seq2seq.png)"
   ]
  },
  {
   "cell_type": "code",
   "execution_count": 1,
   "metadata": {},
   "outputs": [],
   "source": [
    "import torch\n",
    "import torch.nn as nn\n",
    "import torch.nn.functional as F"
   ]
  },
  {
   "cell_type": "code",
   "execution_count": 2,
   "metadata": {},
   "outputs": [],
   "source": [
    "device = torch.device(\"cuda\" if torch.cuda.is_available() else \"cpu\")"
   ]
  },
  {
   "cell_type": "markdown",
   "metadata": {},
   "source": [
    "## Encoder\n",
    "\n",
    "This is the first half of the RNN seq2seq network, aka [Encoder Decoder network](https://arxiv.org/pdf/1406.1078v3.pdf).\n",
    "\n",
    "For every input (word token, in this example) the encoder outputs a vector and a hidden state, and uses the hidden state for the next input word.\n",
    "\n",
    "![encoder](images/encoder-network.png)"
   ]
  },
  {
   "cell_type": "code",
   "execution_count": 3,
   "metadata": {},
   "outputs": [],
   "source": [
    "class EncoderRNN(nn.Module):\n",
    "    def __init__(self, input_size, hidden_size):\n",
    "        super(EncoderRNN, self).__init__()\n",
    "        self.hidden_size = hidden_size\n",
    "        self.embedding = nn.Embedding(input_size, hidden_size)\n",
    "        # using a multi-layer gated recurrent unit (GRU) \n",
    "        # as an improvement over long short-term memory (LSTM) \n",
    "        self.gru = nn.GRU(hidden_size, hidden_size)\n",
    "        \n",
    "    def forward(self, input_layer, hidden_layer):\n",
    "        embedded = self.embedding(input_layer).view(1, 1, -1)\n",
    "        output_layer, hidden_layer = self.gru(embedded, hidden_layer)\n",
    "        return output_layer, hidden_layer\n",
    "    \n",
    "    def init_hidden(self):\n",
    "        return torch.zeros(1, 1, self.hidden_size, device=device)"
   ]
  },
  {
   "cell_type": "markdown",
   "metadata": {},
   "source": [
    "## Decoder\n",
    "\n",
    "The is the second half of the model, another RNN that takes the encoder's output vectors as its input, and outputs a sequence of words to create the translation:\n",
    "\n",
    "![decoder](images/decoder-network.png)"
   ]
  },
  {
   "cell_type": "code",
   "execution_count": 4,
   "metadata": {},
   "outputs": [],
   "source": [
    "class DecoderRNN(nn.Module):\n",
    "    def __init__(self, hidden_size, output_size):\n",
    "        super(DecoderRNN, self).__init__()\n",
    "        self.hidden_size = hidden_size\n",
    "        self.embedding = nn.Embedding(output_size)\n",
    "        self.gru = nn.GRU(hidden_size, hidden_size)\n",
    "        self.out = nn.Linear(hidden_size, output_size)\n",
    "        self.softmax = nn.LogSoftmax(dim=1)\n",
    "        \n",
    "    def forward(self, input_layer, hidden_layer):\n",
    "        output_layer = F.relu(self.embedding(input).view(1, 1, -1))\n",
    "        output_layer, hidden_layer = self.gru(output_layer, hidden_layer)\n",
    "        output_layer = self.softmax(self.out(output_layer[0]))\n",
    "        return output_layer, hidden_layer\n",
    "    \n",
    "    def init_hidden(self):\n",
    "        return torch.zeros(1, 1, self.hidden_size, device=device)"
   ]
  },
  {
   "cell_type": "markdown",
   "metadata": {},
   "source": [
    "## Attention Decoder\n",
    "\n",
    "Without this, the context vector which is passed betweeen the encoder and decoder carries the burden of encoding the entire sentence.\n",
    "\n",
    "The attention RNN allows the decoder network to \"focus\" on a different part of the encoder's outputs for every step of the decoder's own outputs.\n",
    "\n",
    "![diagram](images/attention-decoder.png)\n",
    "\n",
    "Calculating the attention weights is done with another feed-forward layer, `attn`, using the decoder's input and hidden state as inputs.\n",
    "\n",
    "Rather than using [bucketing](https://www.kaggle.com/bminixhofer/speed-up-your-rnn-with-sequence-bucketing) for handling inputs of variable length in the training data, this example chooses a maximum sentence length that gets applied to all inputs: sentences of the maximum length will use all the attention weights, while shorter sentences will only use the first few.\n",
    "\n",
    "![diagram](images/attention-decoder-network.png)"
   ]
  },
  {
   "cell_type": "code",
   "execution_count": 5,
   "metadata": {},
   "outputs": [],
   "source": [
    "class AttentionDecoderRNN(nn.Module):\n",
    "    def __init__(self, hidden_size, output_size, dropout, max_length):\n",
    "        super(AttentionDecoderRNN, self).__init__()\n",
    "        self.hidden_size = hidden_size\n",
    "        self.output_size = output_size\n",
    "        self.max_length = max_length\n",
    "        self.embedding = nn.Embedding(self.output_size, self.hidden_size)\n",
    "        self.attention = nn.Linear(self.hidden_size * 2, self.max_length)\n",
    "        self.attention_combine = nn.Linear(self.hidden_size * 2, self.hidden_size)\n",
    "        self.dropout = nn.Dropout(dropout)\n",
    "        self.gru = nn.GRU(self.hidden_size, self.hidden_size)\n",
    "        self.out = nn.Linear(self.hidden_size, self.output_size)\n",
    "        \n",
    "    def forward(self, input_layer, hidden_layer, encoder_output):\n",
    "        embedded = self.dropout(self.embedding(input_layer).view(1, 1, -1))\n",
    "        attention_weights = F.softmax(self.attention(torch.cat((embedded[0], hidden_layer[0]), 1)), dim=1)\n",
    "        attention_applied = torch.bmm(attention_weights.unsqueeze(0), encoder_output.unsqueeze(0))\n",
    "        output_layer = self.attention_combine(torch.cat((embedded[0], attention_applied[0]), 1)).unsqueeze(0)\n",
    "        output_layer, hidden_layer = self.gru(F.relu(output_layer), hidden_layer)\n",
    "        output_layer = F.log_softmax(self.out(output_layer[0]), dim=1)\n",
    "        return output_layer, hidden_layer, attention_weights\n",
    "    \n",
    "    def init_hidden(self):\n",
    "        return torch.zeros(1, 1, self.hidden_size, device=device)"
   ]
  },
  {
   "cell_type": "markdown",
   "metadata": {},
   "source": [
    "## Training Functions"
   ]
  },
  {
   "cell_type": "code",
   "execution_count": 6,
   "metadata": {},
   "outputs": [],
   "source": [
    "# helper functions\n",
    "\n",
    "import time\n",
    "import math\n",
    "\n",
    "def in_minutes(seconds):\n",
    "    minutes = math.floor(seconds / 60)\n",
    "    seconds -= minutes * 60\n",
    "    return '%dm %ds' % (minutes, seconds)\n",
    "\n",
    "def since(prior, percent):\n",
    "    seconds = time.time() - prior\n",
    "    gap = (seconds / percent) - seconds\n",
    "    return '%s (- %s)' % (in_minutes(seconds), in_minutes(gap))"
   ]
  },
  {
   "cell_type": "code",
   "execution_count": 7,
   "metadata": {},
   "outputs": [],
   "source": [
    "import random\n",
    "\n",
    "teacher_forcing_ratio = 0.5\n",
    "\n",
    "def train(input_tensor, target_tensor, encoder, decoder, enc_optimizer, dec_optimizer, crit, max_len):\n",
    "    encoder_hidden = encoder.init_hidden()\n",
    "    enc_optimizer.zero_grad()\n",
    "    dec_optimizer.zero_grad()\n",
    "    \n",
    "    input_length = input_tensor.size(0)\n",
    "    target_length = target_tensor.size(0)\n",
    "\n",
    "    encoder_outputs = torch.zeros(max_len, encoder.hidden_size, device=device)\n",
    "    loss = 0\n",
    "    \n",
    "    for i in range(input_length):\n",
    "        encoder_output, encoder_hidden = encoder(input_tensor[i], encoder_hidden)\n",
    "        encoder_outputs[i] = encoder_output[0, 0]\n",
    "    \n",
    "    decoder_input = torch.tensor([[SOS_token]], device=device)\n",
    "    decoder_hidden = encoder_hidden\n",
    "\n",
    "    for i in range(target_length):\n",
    "        if random.random() < teacher_forcing_ratio:\n",
    "            # Teacher forcing: Feed the target as the next input\n",
    "            decoder_output, decoder_hidden, decoder_attention = decoder(decoder_input, decoder_hidden, encoder_outputs)\n",
    "            \n",
    "            loss += crit(decoder_output, target_tensor[i])\n",
    "            decoder_input = target_tensor[i]\n",
    "        else:\n",
    "            # Without teacher forcing: use its own predictions as the next input\n",
    "            decoder_output, decoder_hidden, decoder_attention = decoder(decoder_input, decoder_hidden, encoder_outputs)\n",
    "            topv, topi = decoder_output.topk(1)\n",
    "            decoder_input = topi.squeeze().detach()\n",
    "            \n",
    "            loss += crit(decoder_output, target_tensor[i])\n",
    "            if decoder_input.item() == EOS_token:\n",
    "                break\n",
    "                \n",
    "    loss.backward()\n",
    "    enc_optimizer.step()\n",
    "    dec_optimizer.step()\n",
    "    \n",
    "    return loss.item() / target_length"
   ]
  },
  {
   "cell_type": "code",
   "execution_count": 8,
   "metadata": {},
   "outputs": [],
   "source": [
    "# for plotting results\n",
    "import matplotlib.pyplot as plt\n",
    "plt.switch_backend('agg')\n",
    "import matplotlib.ticker as ticker\n",
    "import numpy as np\n",
    "\n",
    "%matplotlib inline\n",
    "\n",
    "def show_plot(data):\n",
    "    fig, ax = plt.subplots()\n",
    "    loc = ticker.MultipleLocator(base=0.2)\n",
    "    ax.yaxis.set_major_locator(loc)\n",
    "    plt.plot(data)"
   ]
  },
  {
   "cell_type": "code",
   "execution_count": 9,
   "metadata": {},
   "outputs": [],
   "source": [
    "def train_tensors(encoder, decoder, training_tensors, max_len, print_every, plot_every, learning_rate):\n",
    "    start = time.time()\n",
    "    losses = []\n",
    "    print_loss_total = 0\n",
    "    plot_loss_total = 0\n",
    "    \n",
    "    enc_optimizer = torch.optim.SGD(encoder.parameters(), lr=learning_rate)\n",
    "    dec_optimizer = torch.optim.SGD(decoder.parameters(), lr=learning_rate)\n",
    "    criterion = nn.NLLLoss()\n",
    "    \n",
    "    iterations = len(training_tensors)\n",
    "    for i in range(1, iterations+1):\n",
    "        training_pair = training_tensors[i-1]\n",
    "        input_tensor  = training_pair[0]\n",
    "        target_tensor = training_pair[1]\n",
    "        \n",
    "        loss = train(input_tensor, target_tensor, encoder, decoder, enc_optimizer, dec_optimizer, criterion, max_len)\n",
    "        print_loss_total += loss\n",
    "        plot_loss_total += loss\n",
    "        \n",
    "        if i % print_every == 0:\n",
    "            print_loss_avg = print_loss_total / print_every\n",
    "            print_loss_total = 0\n",
    "            print('%s (%d %d%%) %.4f' % (since(start, i/iterations), i, i/iterations * 100, print_loss_avg))\n",
    "            \n",
    "        if i % plot_every == 0:\n",
    "            plot_loss_avg = plot_loss_total / plot_every\n",
    "            losses.append(plot_loss_avg)\n",
    "            plot_loss_total = 0\n",
    "    \n",
    "    print('Preparing plot: %d losses (data points)' % len(losses))\n",
    "    show_plot(losses)"
   ]
  },
  {
   "cell_type": "markdown",
   "metadata": {},
   "source": [
    "## Putting it all together\n",
    "\n",
    "Using the tab-delimited examples from [Anki](https://www.manythings.org/anki/) to see if it's possible to produce a simple English to Japanese translation service."
   ]
  },
  {
   "cell_type": "markdown",
   "metadata": {},
   "source": [
    "### Sidebar: parsing Japanese text in python\n",
    "\n",
    "This proved to be surprisingly complicated. \n",
    "\n",
    "[KyTea](http://www.phontron.com/kytea/) would not install until going down to version `0.3.2`, and even then would not run properly.\n",
    "\n",
    "[This guide](images/japanese-spacy-and-mecab.pdf) (archived from the [original](https://www.dampfkraft.com/nlp/japanese-spacy-and-mecab.html)) was helpful, but I needed a few more tweaks to make it work:\n",
    "\n",
    "* `sudo ldconfig` gets around the `error while loading shared libraries: libmecab.so.2` building `unidic-mecab-2.1.2_src` (hat tip to [tatsuyaoiw](http://tatsuyaoiw.hatenablog.com/entry/20120414/1334397985))\n",
    "* edited `/usr/local/etc/mecabrc` so that `dicdir` is defined as `dicdir = /usr/local/lib/mecab/dic/unidic`\n",
    "* after `pip install mecab-python3==0.7` and `pip install spacy` I also needed `pip install fugashi`"
   ]
  },
  {
   "cell_type": "code",
   "execution_count": 10,
   "metadata": {},
   "outputs": [],
   "source": [
    "!if [ ! -f ./data/jpn-eng.zip ]; then wget -P ./data https://www.manythings.org/anki/jpn-eng.zip; fi"
   ]
  },
  {
   "cell_type": "code",
   "execution_count": 11,
   "metadata": {
    "scrolled": true
   },
   "outputs": [],
   "source": [
    "!if [ ! -f ./data/jpn.txt ]; then unzip -d ./data ./data/jpn-eng.zip; fi"
   ]
  },
  {
   "cell_type": "code",
   "execution_count": 12,
   "metadata": {},
   "outputs": [],
   "source": [
    "from pathlib import Path\n",
    "data_file = Path.cwd() / \"data/jpn.txt\""
   ]
  },
  {
   "cell_type": "code",
   "execution_count": 13,
   "metadata": {},
   "outputs": [],
   "source": [
    "SOS_token = 0\n",
    "EOS_token = 1\n",
    "\n",
    "class Lang:\n",
    "    def __init__(self, name, parser):\n",
    "        self.name = name\n",
    "        self.parser = parser\n",
    "        self.word2index = {}\n",
    "        self.word2count = {}\n",
    "        self.index2word = {SOS_token: \"SOS\", EOS_token: \"EOS\"}\n",
    "        self.n_words = 2\n",
    "        \n",
    "    def add_sentence(self, sentence):\n",
    "        for word in self.parser(sentence):\n",
    "            self.add_word(word)\n",
    "            \n",
    "    def add_word(self, word):\n",
    "        if word not in self.word2index:\n",
    "            self.word2index[word] = self.n_words\n",
    "            self.word2count[word] = 1\n",
    "            self.index2word[self.n_words] = word\n",
    "            self.n_words += 1\n",
    "        else:\n",
    "            self.word2count[word] += 1\n",
    "            \n",
    "    def indices_from_sentence(self, sentence):\n",
    "        return [self.word2index[word] for word in self.parser(sentence)]"
   ]
  },
  {
   "cell_type": "code",
   "execution_count": 14,
   "metadata": {},
   "outputs": [],
   "source": [
    "\"\"\"\n",
    "Define the Japanese language parser\n",
    "\"\"\"\n",
    "\n",
    "import spacy\n",
    "ja = spacy.blank('ja')\n",
    "\n",
    "def parse_japanese(sentence):\n",
    "    return [word.text for word in ja(sentence)]\n",
    "\n",
    "\"\"\"\n",
    "English can be more complicated than this, \n",
    "but this suffices for this simple model\n",
    "\"\"\"\n",
    "\n",
    "def parse_english(sentence):\n",
    "    return sentence.split(' ')"
   ]
  },
  {
   "cell_type": "code",
   "execution_count": 15,
   "metadata": {},
   "outputs": [],
   "source": [
    "def parse_language_pairs(input_file=data_file):\n",
    "    pairs = [] # list of (eng, jpn) pairs\n",
    "    for line in data_file.read_text(encoding='utf-8').splitlines():\n",
    "        parts = line.split('\\t')\n",
    "        if len(parts) > 1:\n",
    "            pairs.append((parts[0].strip(), parts[1].strip()))\n",
    "    return pairs"
   ]
  },
  {
   "cell_type": "code",
   "execution_count": 16,
   "metadata": {},
   "outputs": [],
   "source": [
    "MAX_WORD_LENGTH = 20\n",
    "\n",
    "def filter_by_word_length(pair):\n",
    "    \"\"\"\n",
    "    Since the AttentionDecoderRNN is based on a max_length,\n",
    "    this function provides a filter based on that parameter \n",
    "    \"\"\"\n",
    "    return len(pair) == 2 \\\n",
    "      and len(parse_english(pair[0])) < MAX_WORD_LENGTH \\\n",
    "      and len(parse_japanese(pair[1])) < MAX_WORD_LENGTH"
   ]
  },
  {
   "cell_type": "code",
   "execution_count": 17,
   "metadata": {},
   "outputs": [],
   "source": [
    "samples = [pair for pair in parse_language_pairs() if filter_by_word_length(pair)]"
   ]
  },
  {
   "cell_type": "code",
   "execution_count": 18,
   "metadata": {},
   "outputs": [],
   "source": [
    "def prepare_sample(parsed_pairs):\n",
    "    \"\"\"\n",
    "    Given a list of (eng, jpn) pairs, produce \n",
    "    a tuple (Lang(eng), Lang(jpn)) of the data\n",
    "    \"\"\"\n",
    "    eng = Lang('eng', parse_english)\n",
    "    jpn = Lang('jpn', parse_japanese)\n",
    "    for pair in parsed_pairs:\n",
    "        eng.add_sentence(pair[0])\n",
    "        jpn.add_sentence(pair[1])\n",
    "    return eng, jpn"
   ]
  },
  {
   "cell_type": "code",
   "execution_count": 19,
   "metadata": {},
   "outputs": [
    {
     "data": {
      "text/plain": [
       "(47612, 16361, 13291)"
      ]
     },
     "execution_count": 19,
     "metadata": {},
     "output_type": "execute_result"
    }
   ],
   "source": [
    "eng, jpn = prepare_sample(samples)\n",
    "len(samples), eng.n_words, jpn.n_words"
   ]
  },
  {
   "cell_type": "markdown",
   "metadata": {},
   "source": [
    "## Converting training data to [tensors](https://pytorch.org/docs/stable/tensors.html)"
   ]
  },
  {
   "cell_type": "code",
   "execution_count": 20,
   "metadata": {},
   "outputs": [],
   "source": [
    "def generate_tensor(lang, sentence):\n",
    "    indicies = lang.indices_from_sentence(sentence)\n",
    "    indicies.append(EOS_token)\n",
    "    return torch.tensor(indicies, dtype=torch.long, device=device).view(-1, 1)"
   ]
  },
  {
   "cell_type": "code",
   "execution_count": 21,
   "metadata": {},
   "outputs": [],
   "source": [
    "training_tensors = [\n",
    "    (generate_tensor(eng, pair[0]), \n",
    "     generate_tensor(jpn, pair[1])) \n",
    "    for pair in samples\n",
    "]    "
   ]
  },
  {
   "cell_type": "markdown",
   "metadata": {},
   "source": [
    "## Train the model"
   ]
  },
  {
   "cell_type": "code",
   "execution_count": 22,
   "metadata": {},
   "outputs": [],
   "source": [
    "import pickle\n",
    "encoder_file = Path.cwd() / \"data/encoder.pkl\"\n",
    "decoder_file = Path.cwd() / \"data/decoder.pkl\""
   ]
  },
  {
   "cell_type": "code",
   "execution_count": 25,
   "metadata": {},
   "outputs": [
    {
     "name": "stdout",
     "output_type": "stream",
     "text": [
      "2m 2s (- 95m 21s) (1000 2%) 4.3279\n",
      "4m 41s (- 107m 8s) (2000 4%) 4.0322\n",
      "7m 29s (- 111m 31s) (3000 6%) 4.0059\n",
      "10m 23s (- 113m 19s) (4000 8%) 3.8648\n",
      "13m 23s (- 114m 5s) (5000 10%) 3.7440\n",
      "16m 28s (- 114m 17s) (6000 12%) 3.7456\n",
      "19m 40s (- 114m 8s) (7000 14%) 3.8023\n",
      "22m 55s (- 113m 32s) (8000 16%) 3.5963\n",
      "26m 13s (- 112m 28s) (9000 18%) 3.7694\n",
      "29m 33s (- 111m 12s) (10000 21%) 3.6679\n",
      "33m 5s (- 110m 9s) (11000 23%) 3.6665\n",
      "36m 34s (- 108m 31s) (12000 25%) 3.7698\n",
      "40m 9s (- 106m 56s) (13000 27%) 3.7117\n",
      "43m 51s (- 105m 16s) (14000 29%) 3.6028\n",
      "47m 31s (- 103m 19s) (15000 31%) 3.7151\n",
      "51m 12s (- 101m 10s) (16000 33%) 3.7080\n",
      "55m 1s (- 99m 5s) (17000 35%) 3.6202\n",
      "58m 51s (- 96m 49s) (18000 37%) 3.6893\n",
      "62m 45s (- 94m 30s) (19000 39%) 3.8659\n",
      "69m 19s (- 95m 43s) (20000 42%) 3.7168\n",
      "76m 6s (- 96m 26s) (21000 44%) 3.7245\n",
      "82m 57s (- 96m 34s) (22000 46%) 3.7491\n",
      "89m 42s (- 96m 0s) (23000 48%) 3.6950\n",
      "96m 50s (- 95m 16s) (24000 50%) 3.7968\n",
      "104m 3s (- 94m 7s) (25000 52%) 3.8084\n",
      "111m 21s (- 92m 33s) (26000 54%) 3.8021\n",
      "118m 37s (- 90m 33s) (27000 56%) 3.7330\n",
      "126m 2s (- 88m 16s) (28000 58%) 3.7771\n",
      "131m 1s (- 84m 5s) (29000 60%) 3.7595\n",
      "135m 29s (- 79m 32s) (30000 63%) 3.8144\n",
      "140m 4s (- 75m 3s) (31000 65%) 3.7815\n",
      "144m 41s (- 70m 35s) (32000 67%) 3.8656\n",
      "149m 24s (- 66m 9s) (33000 69%) 3.8802\n",
      "154m 7s (- 61m 42s) (34000 71%) 3.9143\n",
      "158m 53s (- 57m 15s) (35000 73%) 3.8990\n",
      "163m 41s (- 52m 48s) (36000 75%) 3.9584\n",
      "168m 42s (- 48m 23s) (37000 77%) 3.8627\n",
      "173m 41s (- 43m 56s) (38000 79%) 3.8456\n",
      "178m 46s (- 39m 28s) (39000 81%) 4.0138\n",
      "184m 0s (- 35m 1s) (40000 84%) 4.0514\n",
      "189m 21s (- 30m 32s) (41000 86%) 4.0228\n",
      "194m 50s (- 26m 2s) (42000 88%) 4.1278\n",
      "200m 30s (- 21m 30s) (43000 90%) 4.1328\n",
      "206m 15s (- 16m 55s) (44000 92%) 4.2634\n",
      "212m 13s (- 12m 19s) (45000 94%) 4.2759\n",
      "218m 15s (- 7m 38s) (46000 96%) 4.2844\n",
      "225m 10s (- 2m 55s) (47000 98%) 4.5156\n",
      "Preparing plot: 476 losses (data points)\n"
     ]
    },
    {
     "data": {
      "image/png": "[encoded data removed]",
      "text/plain": [
       "<Figure size 432x288 with 1 Axes>"
      ]
     },
     "metadata": {
      "needs_background": "light"
     },
     "output_type": "display_data"
    }
   ],
   "source": [
    "hidden_size = 256\n",
    "\n",
    "if encoder_file.exists() and decoder_file.exists():\n",
    "    encoder = pickle.load(open(encoder_file, 'rb'))\n",
    "    attn_decoder = pickle.load(open(decoder_file, 'rb'))\n",
    "else:\n",
    "    encoder = EncoderRNN(eng.n_words, hidden_size).to(device)\n",
    "    attn_decoder = AttentionDecoderRNN(hidden_size, jpn.n_words, 0.1, MAX_WORD_LENGTH).to(device)\n",
    "    # trainIters(encoder1, attn_decoder1, 75000, print_every=5000)\n",
    "    train_tensors(encoder, attn_decoder, training_tensors, MAX_WORD_LENGTH, 1000, 100, 0.01)\n",
    "    pickle.dump(encoder, open(encoder_file, 'wb'))\n",
    "    pickle.dump(attn_decoder, open(decoder_file, 'wb'))"
   ]
  },
  {
   "cell_type": "markdown",
   "metadata": {},
   "source": [
    "## Evaluate the results"
   ]
  },
  {
   "cell_type": "code",
   "execution_count": 26,
   "metadata": {},
   "outputs": [],
   "source": [
    "def evaluate(encoder, decoder, input_tensor, output_lang, max_length=MAX_WORD_LENGTH):\n",
    "    with torch.no_grad():\n",
    "        input_length = input_tensor.size()[0]\n",
    "        encoder_hidden = encoder.init_hidden()\n",
    "        encoder_outputs = torch.zeros(max_length, encoder.hidden_size, device=device)\n",
    "        for i in range(input_length):\n",
    "            encoder_output, encoder_hidden = encoder(input_tensor[i], encoder_hidden)\n",
    "            encoder_outputs[i] += encoder_output[0, 0]\n",
    "            \n",
    "        decoder_input = torch.tensor([[SOS_token]], device=device)\n",
    "        decoder_hidden = encoder_hidden\n",
    "        \n",
    "        decoded_words = []\n",
    "        decoder_attentions = torch.zeros(max_length, max_length)\n",
    "        \n",
    "        for i in range(max_length):\n",
    "            decoder_output, decoder_hidden, decoder_attention = decoder(decoder_input, decoder_hidden, encoder_outputs)\n",
    "            decoder_attentions[i] = decoder_attention.data\n",
    "            topv, topi = decoder_output.data.topk(1)\n",
    "            if topi.item() == EOS_token:\n",
    "                decoded_words.append('<EOS>')\n",
    "                break\n",
    "            else:\n",
    "                decoded_words.append(output_lang.index2word[topi.item()])\n",
    "\n",
    "            decoder_input = topi.squeeze().detach()\n",
    "            \n",
    "        return decoded_words, decoder_attentions[:i + 1]"
   ]
  },
  {
   "cell_type": "code",
   "execution_count": 27,
   "metadata": {},
   "outputs": [],
   "source": [
    "def evaluate_pair(encoder, decoder, pair, input_lang, output_lang):\n",
    "    print('>', pair[0])\n",
    "    print('=', pair[1])\n",
    "    output_words, attentions = evaluate(encoder, decoder,  generate_tensor(input_lang, pair[0]), output_lang)\n",
    "    output_sentence = u''.join(output_words)\n",
    "    print('<', output_sentence)\n",
    "    print('')"
   ]
  },
  {
   "cell_type": "code",
   "execution_count": 28,
   "metadata": {},
   "outputs": [
    {
     "name": "stdout",
     "output_type": "stream",
     "text": [
      "> We are sorry for his mistake.\n",
      "= 我々は彼の間違いを気の毒に思う。\n",
      "< 私 は の で の を を を に に て いる 。 <EOS>\n",
      "\n",
      "> I'd like you to have an ultrasound.\n",
      "= 超音波検査をしましょう。\n",
      "< もし の を を し たい と 、 お 願い を し たい ん だ けど 。 <EOS>\n",
      "\n",
      "> He grew old.\n",
      "= 彼は年を取った。\n",
      "< 彼 は 英語 を を を を を し た 。 <EOS>\n",
      "\n",
      "> It is difficult to adapt oneself to sudden changes of temperature.\n",
      "= 気温の急変に対応するのは難しい。\n",
      "< 日本 の の の に は する の は の に する こと を する 。 <EOS>\n",
      "\n",
      "> Recently what with anxiety and lack of sleep, she has lost almost ten pounds.\n",
      "= 心配や寝不足で彼女は最近１０ポンド近くも痩せてしまった。\n",
      "< １ ０ は は は は は は は は が 、 彼女 は は ない 。 <EOS>\n",
      "\n",
      "> Excuse me, but might I use the phone?\n",
      "= すみませんが、電話を使ってもよろしいですか。\n",
      "< すみ ませ ん 、 お 、 お 金 を お て いただけ ませ ん か 。 <EOS>\n",
      "\n",
      "> Would you like me to call a taxi?\n",
      "= タクシーを呼びましょうか。\n",
      "< 明日 の お 願い を 教え て いただけ か か 。 <EOS>\n",
      "\n",
      "> Hold on a second.\n",
      "= 少々おまちください。\n",
      "< 「 の に は に 、 て 、 は は に を を し た 。 <EOS>\n",
      "\n",
      "> Birds sing.\n",
      "= 鳥が囀る。\n",
      "< その の に の に は が が さ れ た 。 <EOS>\n",
      "\n",
      "> To tell the truth, I don't really care.\n",
      "= つーかマジどうでもいんですけど。\n",
      "< 本当 に 本当 に 本当 に 本当 に 本当 に と 思う 。 <EOS>\n",
      "\n",
      "> Are you going to have dinner at home?\n",
      "= 夕食は家で食べるの？\n",
      "< 明日 の 家 に 家 に 行っ て ？ <EOS>\n",
      "\n",
      "> Don't let that dog go.\n",
      "= その犬を放してはいけない。\n",
      "< その 本 は ない と ない なら 、 ない は ない ない 。 <EOS>\n",
      "\n",
      "> It was really noisy in the room so Tom covered his ears.\n",
      "= 部屋がとてもうるさかったので、トムは耳をふさいだ。\n",
      "< トム の 部屋 で の で の で の が 、 し て いる 。 <EOS>\n",
      "\n",
      "> She said that she was eager to go there.\n",
      "= 彼女はぜひそこへ行きたいと言った。\n",
      "< 彼女 は 彼女 が 彼女 に 行く と 言っ て 、 彼女 に 言っ た 。 <EOS>\n",
      "\n",
      "> All that you have to do is to follow his advice.\n",
      "= 君は彼の助言に従いさえすればよい。\n",
      "< あなた の の に の の が 、 する の に する こと を する 。 <EOS>\n",
      "\n",
      "> My brother is in Australia now.\n",
      "= 弟は今オーストラリアにいます。\n",
      "< 今 の 祖父 は は の に 、 の の に に の が 。 <EOS>\n",
      "\n",
      "> Make ten copies of that document and bring it to conference room number 1.\n",
      "= この書類、コピー十部とって、第一会議室まで持ってきて。\n",
      "< その は は と 、 の に 、 て 、 、 の に 、 し て 、 し て 、\n",
      "\n",
      "> I got up at about six.\n",
      "= ６時ごろ起きた。\n",
      "< ６ 時 の 時 に の 時 に の に の に を し た 。 <EOS>\n",
      "\n",
      "> I have a lot of work to clear up by the weekend.\n",
      "= 私は週末までに済ませなければならない仕事がたくさんある。\n",
      "< 私 は は に の に に の に は たくさん の が たくさん たくさん ある 。 <EOS>\n",
      "\n",
      "> Have you ever eaten chocolate-covered popcorn?\n",
      "= チョコポップコーンって食べたことある？\n",
      "< 昨日 の で 食べ た 食べ た 食べ た 方 を 食べ た か 。 <EOS>\n",
      "\n",
      "> French bread is delicious.\n",
      "= フランスパンは美味しい。\n",
      "< フランス は フランス 語 は フランス 語 を フランス し た 。 <EOS>\n",
      "\n",
      "> I often refer to the dictionary.\n",
      "= わたしはよくその辞書を引く。\n",
      "< 私 は よく の の に よく ない よう に 。 <EOS>\n",
      "\n",
      "> You must start immediately.\n",
      "= あなたはすぐに始めなければなりません。\n",
      "< もっと すぐ に は に は を に は べき だ よ 。 <EOS>\n",
      "\n",
      "> The government asked the SDF for a disaster relief deployment to Okinawa.\n",
      "= 政府が自衛隊に沖縄への災害派遣を要請した。\n",
      "< その の は は に に の に を し た 。 <EOS>\n",
      "\n",
      "> She advised him not to go out by himself at night.\n",
      "= 彼女は彼に夜一人で外出しないよう警告した。\n",
      "< 彼女 は 夜 で 夜 に ない と 、 彼 は ない 。 <EOS>\n",
      "\n",
      "> He grows rice.\n",
      "= 彼は稲を育てている。\n",
      "< 彼 は 自分 を 人 を を を 、 て 、 人 は を を を を を し た\n",
      "\n",
      "> He's away on business.\n",
      "= 彼は商用で出かけて留守だ。\n",
      "< 彼 は に に の に は に いる 。 <EOS>\n",
      "\n",
      "> I looked around me.\n",
      "= 僕は周りを見回した。\n",
      "< 私 は の し て 、 し て 、 し て くれ た 。 <EOS>\n",
      "\n",
      "> He is a British citizen, but lives in India.\n",
      "= 彼は英国人だがインドに住んでいる。\n",
      "< 彼 は で で の で 、 の で の で の で が の が ある 。 <EOS>\n",
      "\n",
      "> Give me the details.\n",
      "= 詳細を教えてください。\n",
      "< その は は に を を て くれ て くれ ませ ん か 。 <EOS>\n",
      "\n"
     ]
    }
   ],
   "source": [
    "# sample some random entries\n",
    "for i in range(30):\n",
    "    pair = random.choice(samples)\n",
    "    evaluate_pair(encoder, attn_decoder, pair, eng, jpn)"
   ]
  },
  {
   "cell_type": "code",
   "execution_count": null,
   "metadata": {},
   "outputs": [],
   "source": []
  }
 ],
 "metadata": {
  "kernelspec": {
   "display_name": "Python 3",
   "language": "python",
   "name": "python3"
  },
  "language_info": {
   "codemirror_mode": {
    "name": "ipython",
    "version": 3
   },
   "file_extension": ".py",
   "mimetype": "text/x-python",
   "name": "python",
   "nbconvert_exporter": "python",
   "pygments_lexer": "ipython3",
   "version": "3.7.7"
  }
 },
 "nbformat": 4,
 "nbformat_minor": 4
}
