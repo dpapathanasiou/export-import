{
 "cells": [
  {
   "cell_type": "markdown",
   "metadata": {},
   "source": [
    "# About\n",
    "\n",
    "A sketch of the [machine translation tutorial](https://pytorch.org/tutorials/intermediate/seq2seq_translation_tutorial.html) from the [PyTorch Tutorials](https://pytorch.org/tutorials/index.html).\n",
    "\n",
    "It's the closest analogy to automated document conversion, so this is an attempt to study its internals.\n",
    "\n",
    "## Model\n",
    "\n",
    "This is a sequence-to-sequence (seq2seq) model, consisting of a pair of [recurrent neural networks (RNN)](https://en.wikipedia.org/wiki/Recurrent_neural_network), the encoder and decoder. \n",
    "\n",
    "The encoder reads an input sequence and outputs a single vector, and the decoder reads that vector to produce an output sequence.\n",
    "\n",
    "![diagram](images/seq2seq.png)"
   ]
  },
  {
   "cell_type": "code",
   "execution_count": 1,
   "metadata": {},
   "outputs": [],
   "source": [
    "import torch\n",
    "import torch.nn as nn\n",
    "import torch.nn.functional as F"
   ]
  },
  {
   "cell_type": "code",
   "execution_count": 3,
   "metadata": {},
   "outputs": [
    {
     "data": {
      "text/plain": [
       "device(type='cuda')"
      ]
     },
     "execution_count": 3,
     "metadata": {},
     "output_type": "execute_result"
    }
   ],
   "source": [
    "device = torch.device(\"cuda\" if torch.cuda.is_available() else \"cpu\")\n",
    "device"
   ]
  },
  {
   "cell_type": "markdown",
   "metadata": {},
   "source": [
    "## Encoder\n",
    "\n",
    "This is the first half of the RNN seq2seq network, aka [Encoder Decoder network](https://arxiv.org/pdf/1406.1078v3.pdf).\n",
    "\n",
    "For every input (word token, in this example) the encoder outputs a vector and a hidden state, and uses the hidden state for the next input word.\n",
    "\n",
    "![encoder](images/encoder-network.png)"
   ]
  },
  {
   "cell_type": "code",
   "execution_count": 4,
   "metadata": {},
   "outputs": [],
   "source": [
    "class EncoderRNN(nn.Module):\n",
    "    def __init__(self, input_size, hidden_size):\n",
    "        super(EncoderRNN, self).__init__()\n",
    "        self.hidden_size = hidden_size\n",
    "        self.embedding = nn.Embedding(input_size, hidden_size)\n",
    "        # using a multi-layer gated recurrent unit (GRU) \n",
    "        # as an improvement over long short-term memory (LSTM) \n",
    "        self.gru = nn.GRU(hidden_size, hidden_size)\n",
    "        \n",
    "    def forward(self, input_layer, hidden_layer):\n",
    "        embedded = self.embedding(input_layer).view(1, 1, -1)\n",
    "        output = embedded\n",
    "        output, hidden = self.gru(output, hidden_layer)\n",
    "        return output, hidden\n",
    "    \n",
    "    def init_hidden(self):\n",
    "        return torch.zeros(1, 1, self.hidden_size, device=device)"
   ]
  },
  {
   "cell_type": "markdown",
   "metadata": {},
   "source": [
    "## Decoder\n",
    "\n",
    "The is the second half of the model, another RNN that takes the encoder's output vectors as its input, and outputs a sequence of words to create the translation:\n",
    "\n",
    "![decoder](images/decoder-network.png)"
   ]
  },
  {
   "cell_type": "code",
   "execution_count": 5,
   "metadata": {},
   "outputs": [],
   "source": [
    "class DecoderRNN(nn.Module):\n",
    "    def __init__(self, hidden_size, output_size):\n",
    "        super(DecoderRNN, self).__init__()\n",
    "        self.hidden_size = hidden_size\n",
    "        self.embedding = nn.Embedding(output_size, hidden_size)\n",
    "        self.gru = nn.GRU(hidden_size, hidden_size)\n",
    "        self.out = nn.Linear(hidden_size, output_size)\n",
    "        self.softmax = nn.LogSoftmax(dim=1)\n",
    "        \n",
    "    def forward(self, input_layer, hidden_layer):\n",
    "        output = self.embedding(input_layer).view(1, 1, -1)\n",
    "        output = F.relu(output)\n",
    "        output, hidden = self.gru(output, hidden_layer)\n",
    "        output = self.softmax(self.out(output[0]))\n",
    "        return output, hidden\n",
    "    \n",
    "    def init_hidden(self):\n",
    "        return torch.zeros(1, 1, self.hidden_size, device=device)"
   ]
  },
  {
   "cell_type": "markdown",
   "metadata": {},
   "source": [
    "## Attention Decoder\n",
    "\n",
    "Without this, the context vector which is passed betweeen the encoder and decoder carries the burden of encoding the entire sentence.\n",
    "\n",
    "The attention RNN allows the decoder network to \"focus\" on a different part of the encoder's outputs for every step of the decoder's own outputs.\n",
    "\n",
    "![diagram](images/attention-decoder.png)\n",
    "\n",
    "Calculating the attention weights is done with another feed-forward layer, `attn`, using the decoder's input and hidden state as inputs.\n",
    "\n",
    "Rather than using [bucketing](https://www.kaggle.com/bminixhofer/speed-up-your-rnn-with-sequence-bucketing) for handling inputs of variable length in the training data, this example chooses a maximum sentence length that gets applied to all inputs: sentences of the maximum length will use all the attention weights, while shorter sentences will only use the first few.\n",
    "\n",
    "![diagram](images/attention-decoder-network.png)"
   ]
  },
  {
   "cell_type": "code",
   "execution_count": 6,
   "metadata": {},
   "outputs": [],
   "source": [
    "class AttentionDecoderRNN(nn.Module):\n",
    "    def __init__(self, hidden_size, output_size, dropout, max_length):\n",
    "        super(AttentionDecoderRNN, self).__init__()\n",
    "        self.hidden_size = hidden_size\n",
    "        self.output_size = output_size\n",
    "        self.dropout_p = dropout\n",
    "        self.max_length = max_length\n",
    "        self.embedding = nn.Embedding(self.output_size, self.hidden_size)\n",
    "        self.attn = nn.Linear(self.hidden_size * 2, self.max_length)\n",
    "        self.attn_combine = nn.Linear(self.hidden_size * 2, self.hidden_size)\n",
    "        self.dropout = nn.Dropout(self.dropout_p)\n",
    "        self.gru = nn.GRU(self.hidden_size, self.hidden_size)\n",
    "        self.out = nn.Linear(self.hidden_size, self.output_size)\n",
    "        \n",
    "    def forward(self, input_layer, hidden_layer, encoder_outputs):\n",
    "        embedded = self.embedding(input_layer).view(1, 1, -1)\n",
    "        embedded = self.dropout(embedded)\n",
    "\n",
    "        attn_weights = F.softmax(\n",
    "            self.attn(torch.cat((embedded[0], hidden_layer[0]), 1)), dim=1)\n",
    "        attn_applied = torch.bmm(attn_weights.unsqueeze(0),\n",
    "                                 encoder_outputs.unsqueeze(0))\n",
    "\n",
    "        output = torch.cat((embedded[0], attn_applied[0]), 1)\n",
    "        output = self.attn_combine(output).unsqueeze(0)\n",
    "\n",
    "        output = F.relu(output)\n",
    "        output, hidden = self.gru(output, hidden_layer)\n",
    "\n",
    "        output = F.log_softmax(self.out(output[0]), dim=1)\n",
    "        return output, hidden, attn_weights\n",
    "    \n",
    "    def init_hidden(self):\n",
    "        return torch.zeros(1, 1, self.hidden_size, device=device)"
   ]
  },
  {
   "cell_type": "markdown",
   "metadata": {},
   "source": [
    "## Training Functions"
   ]
  },
  {
   "cell_type": "code",
   "execution_count": 7,
   "metadata": {},
   "outputs": [],
   "source": [
    "# helper functions\n",
    "\n",
    "import time\n",
    "import math\n",
    "\n",
    "def in_minutes(seconds):\n",
    "    minutes = math.floor(seconds / 60)\n",
    "    seconds -= minutes * 60\n",
    "    return '%dm %ds' % (minutes, seconds)\n",
    "\n",
    "def since(prior, percent):\n",
    "    seconds = time.time() - prior\n",
    "    gap = (seconds / percent) - seconds\n",
    "    return '%s (- %s)' % (in_minutes(seconds), in_minutes(gap))"
   ]
  },
  {
   "cell_type": "code",
   "execution_count": 8,
   "metadata": {},
   "outputs": [],
   "source": [
    "import random\n",
    "\n",
    "teacher_forcing_ratio = 0.5\n",
    "\n",
    "def train(input_tensor, target_tensor, encoder, decoder, enc_optimizer, dec_optimizer, crit, max_len):\n",
    "    encoder_hidden = encoder.init_hidden()\n",
    "\n",
    "    enc_optimizer.zero_grad()\n",
    "    dec_optimizer.zero_grad()\n",
    "\n",
    "    input_length = input_tensor.size(0)\n",
    "    target_length = target_tensor.size(0)\n",
    "\n",
    "    encoder_outputs = torch.zeros(max_len, encoder.hidden_size, device=device)\n",
    "\n",
    "    loss = 0\n",
    "\n",
    "    for ei in range(input_length):\n",
    "        encoder_output, encoder_hidden = encoder(\n",
    "            input_tensor[ei], encoder_hidden)\n",
    "        encoder_outputs[ei] = encoder_output[0, 0]\n",
    "\n",
    "    decoder_input = torch.tensor([[SOS_token]], device=device)\n",
    "\n",
    "    decoder_hidden = encoder_hidden\n",
    "\n",
    "    use_teacher_forcing = True if random.random() < teacher_forcing_ratio else False\n",
    "    if use_teacher_forcing:\n",
    "        # Teacher forcing: Feed the target as the next input\n",
    "        for di in range(target_length):\n",
    "            decoder_output, decoder_hidden, decoder_attention = decoder(\n",
    "                decoder_input, decoder_hidden, encoder_outputs)\n",
    "            loss += crit(decoder_output, target_tensor[di])\n",
    "            decoder_input = target_tensor[di]  # Teacher forcing\n",
    "    else:\n",
    "        # Without teacher forcing: use its own predictions as the next input\n",
    "        for di in range(target_length):\n",
    "            decoder_output, decoder_hidden, decoder_attention = decoder(\n",
    "                decoder_input, decoder_hidden, encoder_outputs)\n",
    "            topv, topi = decoder_output.topk(1)\n",
    "            decoder_input = topi.squeeze().detach()  # detach from history as input\n",
    "\n",
    "            loss += crit(decoder_output, target_tensor[di])\n",
    "            if decoder_input.item() == EOS_token:\n",
    "                break\n",
    "\n",
    "    loss.backward()\n",
    "\n",
    "    enc_optimizer.step()\n",
    "    dec_optimizer.step()\n",
    "\n",
    "    return loss.item() / target_length"
   ]
  },
  {
   "cell_type": "code",
   "execution_count": 9,
   "metadata": {},
   "outputs": [],
   "source": [
    "# for plotting results\n",
    "import matplotlib.pyplot as plt\n",
    "plt.switch_backend('agg')\n",
    "import matplotlib.ticker as ticker\n",
    "import numpy as np\n",
    "\n",
    "%matplotlib inline\n",
    "\n",
    "def show_plot(data):\n",
    "    fig, ax = plt.subplots()\n",
    "    loc = ticker.MultipleLocator(base=0.2)\n",
    "    ax.yaxis.set_major_locator(loc)\n",
    "    plt.plot(data)"
   ]
  },
  {
   "cell_type": "code",
   "execution_count": 10,
   "metadata": {},
   "outputs": [],
   "source": [
    "from torch import optim\n",
    "\n",
    "def train_tensors(encoder, decoder, training_tensors, max_len, print_every, plot_every, learning_rate):\n",
    "    start = time.time()\n",
    "    plot_losses = []\n",
    "    print_loss_total = 0  # Reset every print_every\n",
    "    plot_loss_total = 0  # Reset every plot_every\n",
    "\n",
    "    encoder_optimizer = optim.SGD(encoder.parameters(), lr=learning_rate)\n",
    "    decoder_optimizer = optim.SGD(decoder.parameters(), lr=learning_rate)\n",
    "    criterion = nn.NLLLoss()\n",
    "\n",
    "    iterations = len(training_tensors)\n",
    "    for i in range(1, iterations+1):\n",
    "        training_pair = training_tensors[i - 1]\n",
    "        input_tensor = training_pair[0]\n",
    "        target_tensor = training_pair[1]\n",
    "\n",
    "        loss = train(input_tensor, target_tensor, encoder, decoder, encoder_optimizer, decoder_optimizer, criterion, max_len)\n",
    "        print_loss_total += loss\n",
    "        plot_loss_total += loss\n",
    "\n",
    "        if i % print_every == 0:\n",
    "            print_loss_avg = print_loss_total / print_every\n",
    "            print_loss_total = 0\n",
    "            print('%s (%d %d%%) %.4f' % (since(start, i / iterations),\n",
    "                                         i, i / iterations * 100, print_loss_avg))\n",
    "\n",
    "        if i % plot_every == 0:\n",
    "            plot_loss_avg = plot_loss_total / plot_every\n",
    "            plot_losses.append(plot_loss_avg)\n",
    "            plot_loss_total = 0\n",
    "\n",
    "    show_plot(plot_losses)"
   ]
  },
  {
   "cell_type": "markdown",
   "metadata": {},
   "source": [
    "## Putting it all together\n",
    "\n",
    "Using the tab-delimited examples from [Anki](https://www.manythings.org/anki/) to see if it's possible to produce a simple English to Spanish translation service."
   ]
  },
  {
   "cell_type": "code",
   "execution_count": 11,
   "metadata": {},
   "outputs": [
    {
     "name": "stdout",
     "output_type": "stream",
     "text": [
      "--2020-11-24 18:27:53--  https://www.manythings.org/anki/spa-eng.zip\n",
      "Resolving www.manythings.org (www.manythings.org)... 172.67.173.198, 104.24.108.196, 104.24.109.196, ...\n",
      "Connecting to www.manythings.org (www.manythings.org)|172.67.173.198|:443... connected.\n",
      "HTTP request sent, awaiting response... 200 OK\n",
      "Length: 4845402 (4.6M) [application/zip]\n",
      "Saving to: ‘./data/spa-eng.zip’\n",
      "\n",
      "spa-eng.zip         100%[===================>]   4.62M  12.4MB/s    in 0.4s    \n",
      "\n",
      "2020-11-24 18:27:54 (12.4 MB/s) - ‘./data/spa-eng.zip’ saved [4845402/4845402]\n",
      "\n"
     ]
    }
   ],
   "source": [
    "!if [ ! -f ./data/spa-eng.zip ]; then wget -P ./data https://www.manythings.org/anki/spa-eng.zip; fi"
   ]
  },
  {
   "cell_type": "code",
   "execution_count": 12,
   "metadata": {
    "scrolled": true
   },
   "outputs": [
    {
     "name": "stdout",
     "output_type": "stream",
     "text": [
      "Archive:  ./data/spa-eng.zip\n",
      "  inflating: ./data/_about.txt       \n",
      "  inflating: ./data/spa.txt          \n"
     ]
    }
   ],
   "source": [
    "!if [ ! -f ./data/spa.txt ]; then unzip -n -d ./data ./data/spa-eng.zip; fi"
   ]
  },
  {
   "cell_type": "code",
   "execution_count": 13,
   "metadata": {},
   "outputs": [],
   "source": [
    "from pathlib import Path\n",
    "data_file = Path.cwd() / \"data/spa.txt\""
   ]
  },
  {
   "cell_type": "code",
   "execution_count": 14,
   "metadata": {},
   "outputs": [],
   "source": [
    "SOS_token = 0\n",
    "EOS_token = 1\n",
    "\n",
    "class Lang:\n",
    "    def __init__(self, name, parser):\n",
    "        self.name = name\n",
    "        self.parser = parser\n",
    "        self.word2index = {}\n",
    "        self.word2count = {}\n",
    "        self.index2word = {SOS_token: \"SOS\", EOS_token: \"EOS\"}\n",
    "        self.n_words = 2\n",
    "        \n",
    "    def add_sentence(self, sentence):\n",
    "        for word in self.parser(sentence):\n",
    "            self.add_word(word)\n",
    "            \n",
    "    def add_word(self, word):\n",
    "        if word not in self.word2index:\n",
    "            self.word2index[word] = self.n_words\n",
    "            self.word2count[word] = 1\n",
    "            self.index2word[self.n_words] = word\n",
    "            self.n_words += 1\n",
    "        else:\n",
    "            self.word2count[word] += 1\n",
    "            \n",
    "    def indices_from_sentence(self, sentence):\n",
    "        return [self.word2index[word] for word in self.parser(sentence)]"
   ]
  },
  {
   "cell_type": "code",
   "execution_count": 15,
   "metadata": {},
   "outputs": [],
   "source": [
    "# text normalization to ascii\n",
    "\n",
    "import unicodedata\n",
    "import re\n",
    "\n",
    "def unicode_to_ascii(s):\n",
    "    return ''.join(\n",
    "        c for c in unicodedata.normalize('NFD', s)\n",
    "        if unicodedata.category(c) != 'Mn'\n",
    "    )\n",
    "\n",
    "def normalize(s):\n",
    "    s = unicode_to_ascii(s.lower().strip())\n",
    "    s = re.sub(r\"([.!?])\", r\" \\1\", s)\n",
    "    s = re.sub(r\"[^a-zA-Z.!?]+\", r\" \", s)\n",
    "    return s"
   ]
  },
  {
   "cell_type": "code",
   "execution_count": 16,
   "metadata": {},
   "outputs": [],
   "source": [
    "\"\"\"\n",
    "Define the language parsers;\n",
    "both can be more complicated than this, \n",
    "but this suffices for this simple model\n",
    "\"\"\"\n",
    "\n",
    "def parse_spanish(sentence):\n",
    "    return sentence.split(' ')\n",
    "\n",
    "def parse_english(sentence):\n",
    "    return sentence.split(' ')"
   ]
  },
  {
   "cell_type": "code",
   "execution_count": 17,
   "metadata": {},
   "outputs": [],
   "source": [
    "def parse_language_pairs(input_file=data_file):\n",
    "    pairs = [] # list of (eng, spa) pairs\n",
    "    for line in data_file.read_text(encoding='utf-8').splitlines():\n",
    "        parts = list(map(lambda x: normalize(x.strip()), line.split('\\t')))\n",
    "        if len(parts) > 1:\n",
    "            pairs.append((parts[0], parts[1]))\n",
    "    return pairs"
   ]
  },
  {
   "cell_type": "code",
   "execution_count": 18,
   "metadata": {},
   "outputs": [],
   "source": [
    "MAX_WORD_LENGTH = 12\n",
    "\n",
    "def filter_by_word_length(pair):\n",
    "    \"\"\"\n",
    "    Since the AttentionDecoderRNN is based on a max_length,\n",
    "    this function provides a filter based on that parameter \n",
    "    \"\"\"\n",
    "    return len(pair) == 2 \\\n",
    "      and len(parse_english(pair[0])) < MAX_WORD_LENGTH \\\n",
    "      and len(parse_spanish(pair[1])) < MAX_WORD_LENGTH"
   ]
  },
  {
   "cell_type": "code",
   "execution_count": 19,
   "metadata": {},
   "outputs": [],
   "source": [
    "samples = [pair for pair in parse_language_pairs() if filter_by_word_length(pair)]"
   ]
  },
  {
   "cell_type": "code",
   "execution_count": 20,
   "metadata": {},
   "outputs": [],
   "source": [
    "def prepare_sample(parsed_pairs):\n",
    "    \"\"\"\n",
    "    Given a list of (eng, spa) pairs, produce \n",
    "    a tuple (Lang(eng), Lang(spa)) of the data\n",
    "    \"\"\"\n",
    "    eng = Lang('eng', parse_english)\n",
    "    spa = Lang('spa', parse_spanish)\n",
    "    for pair in parsed_pairs:\n",
    "        eng.add_sentence(pair[0])\n",
    "        spa.add_sentence(pair[1])\n",
    "    return eng, spa"
   ]
  },
  {
   "cell_type": "code",
   "execution_count": 21,
   "metadata": {},
   "outputs": [
    {
     "data": {
      "text/plain": [
       "(112833, 11929, 23009)"
      ]
     },
     "execution_count": 21,
     "metadata": {},
     "output_type": "execute_result"
    }
   ],
   "source": [
    "eng, spa = prepare_sample(samples)\n",
    "len(samples), eng.n_words, spa.n_words"
   ]
  },
  {
   "cell_type": "markdown",
   "metadata": {},
   "source": [
    "## Converting training data to [tensors](https://pytorch.org/docs/stable/tensors.html)"
   ]
  },
  {
   "cell_type": "code",
   "execution_count": 22,
   "metadata": {},
   "outputs": [],
   "source": [
    "def generate_tensor(lang, sentence):\n",
    "    indicies = lang.indices_from_sentence(sentence)\n",
    "    indicies.append(EOS_token)\n",
    "    return torch.tensor(indicies, dtype=torch.long, device=device).view(-1, 1)"
   ]
  },
  {
   "cell_type": "code",
   "execution_count": 23,
   "metadata": {},
   "outputs": [],
   "source": [
    "training_tensors = [\n",
    "    (generate_tensor(eng, pair[0]), \n",
    "     generate_tensor(spa, pair[1])) \n",
    "    for pair in samples\n",
    "]    "
   ]
  },
  {
   "cell_type": "markdown",
   "metadata": {},
   "source": [
    "## Train the model"
   ]
  },
  {
   "cell_type": "code",
   "execution_count": 24,
   "metadata": {},
   "outputs": [],
   "source": [
    "import pickle\n",
    "\n",
    "encoder_file = Path.cwd() / \"data/encoder.pkl\"\n",
    "decoder_file = Path.cwd() / \"data/decoder.pkl\""
   ]
  },
  {
   "cell_type": "code",
   "execution_count": 25,
   "metadata": {},
   "outputs": [
    {
     "name": "stdout",
     "output_type": "stream",
     "text": [
      "0m 31s (- 29m 19s) (2000 1%) 4.2086\n",
      "1m 6s (- 30m 1s) (4000 3%) 3.8302\n",
      "1m 43s (- 30m 43s) (6000 5%) 3.7379\n",
      "2m 21s (- 30m 58s) (8000 7%) 3.6397\n",
      "3m 0s (- 30m 55s) (10000 8%) 3.5645\n",
      "3m 40s (- 30m 52s) (12000 10%) 3.6031\n",
      "4m 21s (- 30m 43s) (14000 12%) 3.4170\n",
      "5m 1s (- 30m 27s) (16000 14%) 3.4058\n",
      "5m 43s (- 30m 12s) (18000 15%) 3.3889\n",
      "6m 27s (- 29m 56s) (20000 17%) 3.2819\n",
      "7m 10s (- 29m 36s) (22000 19%) 3.4785\n",
      "7m 53s (- 29m 13s) (24000 21%) 3.2604\n",
      "8m 38s (- 28m 50s) (26000 23%) 3.4039\n",
      "9m 22s (- 28m 24s) (28000 24%) 3.2720\n",
      "10m 7s (- 27m 58s) (30000 26%) 3.2301\n",
      "10m 53s (- 27m 29s) (32000 28%) 3.3165\n",
      "11m 40s (- 27m 3s) (34000 30%) 3.2433\n",
      "12m 27s (- 26m 35s) (36000 31%) 3.3854\n",
      "13m 14s (- 26m 5s) (38000 33%) 3.1719\n",
      "14m 2s (- 25m 33s) (40000 35%) 3.3019\n",
      "14m 50s (- 25m 1s) (42000 37%) 3.1058\n",
      "15m 38s (- 24m 28s) (44000 38%) 3.2945\n",
      "16m 26s (- 23m 53s) (46000 40%) 3.1245\n",
      "17m 16s (- 23m 20s) (48000 42%) 3.2351\n",
      "18m 6s (- 22m 44s) (50000 44%) 3.1949\n",
      "18m 58s (- 22m 11s) (52000 46%) 3.1759\n",
      "19m 49s (- 21m 35s) (54000 47%) 3.2489\n",
      "20m 41s (- 21m 0s) (56000 49%) 3.1353\n",
      "21m 34s (- 20m 23s) (58000 51%) 3.2794\n",
      "22m 27s (- 19m 46s) (60000 53%) 3.0753\n",
      "23m 21s (- 19m 8s) (62000 54%) 3.2046\n",
      "24m 14s (- 18m 30s) (64000 56%) 3.0907\n",
      "25m 8s (- 17m 50s) (66000 58%) 3.2100\n",
      "26m 2s (- 17m 10s) (68000 60%) 3.1944\n",
      "26m 56s (- 16m 29s) (70000 62%) 3.3126\n",
      "27m 51s (- 15m 47s) (72000 63%) 3.1928\n",
      "28m 47s (- 15m 6s) (74000 65%) 3.2360\n",
      "29m 45s (- 14m 25s) (76000 67%) 3.2282\n",
      "30m 42s (- 13m 43s) (78000 69%) 3.2254\n",
      "31m 41s (- 13m 0s) (80000 70%) 3.2171\n",
      "32m 40s (- 12m 17s) (82000 72%) 3.2968\n",
      "33m 40s (- 11m 33s) (84000 74%) 3.2507\n",
      "34m 40s (- 10m 49s) (86000 76%) 3.2558\n",
      "35m 40s (- 10m 4s) (88000 77%) 3.2987\n",
      "36m 41s (- 9m 18s) (90000 79%) 3.3796\n",
      "37m 43s (- 8m 32s) (92000 81%) 3.3553\n",
      "38m 46s (- 7m 46s) (94000 83%) 3.4408\n",
      "39m 49s (- 6m 59s) (96000 85%) 3.3412\n",
      "40m 54s (- 6m 11s) (98000 86%) 3.4754\n",
      "41m 59s (- 5m 23s) (100000 88%) 3.5243\n",
      "43m 5s (- 4m 34s) (102000 90%) 3.5349\n",
      "44m 13s (- 3m 45s) (104000 92%) 3.6265\n",
      "45m 20s (- 2m 55s) (106000 93%) 3.6472\n",
      "46m 28s (- 2m 4s) (108000 95%) 3.7935\n",
      "47m 38s (- 1m 13s) (110000 97%) 3.8245\n",
      "48m 48s (- 0m 21s) (112000 99%) 4.0326\n"
     ]
    },
    {
     "data": {
      "image/png": "[encoded data removed]",
      "text/plain": [
       "<Figure size 432x288 with 1 Axes>"
      ]
     },
     "metadata": {
      "needs_background": "light"
     },
     "output_type": "display_data"
    }
   ],
   "source": [
    "hidden_size = 256\n",
    "\n",
    "if encoder_file.exists() and decoder_file.exists():\n",
    "    encoder = pickle.load(open(encoder_file, 'rb'))\n",
    "    attn_decoder = pickle.load(open(decoder_file, 'rb'))\n",
    "else:\n",
    "    encoder = EncoderRNN(eng.n_words, hidden_size).to(device)\n",
    "    attn_decoder = AttentionDecoderRNN(hidden_size, spa.n_words, 0.1, MAX_WORD_LENGTH).to(device)\n",
    "    train_tensors(encoder, attn_decoder, training_tensors, MAX_WORD_LENGTH, 2000, 1000, 0.01)\n",
    "    pickle.dump(encoder, open(encoder_file, 'wb'))\n",
    "    pickle.dump(attn_decoder, open(decoder_file, 'wb'))"
   ]
  },
  {
   "cell_type": "markdown",
   "metadata": {},
   "source": [
    "## Evaluate the results"
   ]
  },
  {
   "cell_type": "code",
   "execution_count": 26,
   "metadata": {},
   "outputs": [],
   "source": [
    "def evaluate(encoder, decoder, input_tensor, output_lang, max_length=MAX_WORD_LENGTH):\n",
    "    with torch.no_grad():\n",
    "        input_length = input_tensor.size()[0]\n",
    "        encoder_hidden = encoder.init_hidden()\n",
    "        encoder_outputs = torch.zeros(max_length, encoder.hidden_size, device=device)\n",
    "        for i in range(input_length):\n",
    "            encoder_output, encoder_hidden = encoder(input_tensor[i], encoder_hidden)\n",
    "            encoder_outputs[i] += encoder_output[0, 0]\n",
    "            \n",
    "        decoder_input = torch.tensor([[SOS_token]], device=device)\n",
    "        decoder_hidden = encoder_hidden\n",
    "        \n",
    "        decoded_words = []\n",
    "        decoder_attentions = torch.zeros(max_length, max_length)\n",
    "        \n",
    "        for i in range(max_length):\n",
    "            decoder_output, decoder_hidden, decoder_attention = decoder(decoder_input, decoder_hidden, encoder_outputs)\n",
    "            decoder_attentions[i] = decoder_attention.data\n",
    "            topv, topi = decoder_output.data.topk(1)\n",
    "            if topi.item() == EOS_token:\n",
    "                decoded_words.append('<EOS>')\n",
    "                break\n",
    "            else:\n",
    "                decoded_words.append(output_lang.index2word[topi.item()])\n",
    "\n",
    "            decoder_input = topi.squeeze().detach()\n",
    "            \n",
    "        return decoded_words, decoder_attentions[:i + 1]"
   ]
  },
  {
   "cell_type": "code",
   "execution_count": 29,
   "metadata": {},
   "outputs": [],
   "source": [
    "def evaluate_pair(encoder, decoder, pair, input_lang, output_lang):\n",
    "    print('>', pair[0])\n",
    "    print('=', pair[1])\n",
    "    output_words, attentions = evaluate(encoder, decoder,  generate_tensor(input_lang, pair[0]), output_lang)\n",
    "    output_sentence = u' '.join(output_words)\n",
    "    print('<', output_sentence)\n",
    "    print('')"
   ]
  },
  {
   "cell_type": "code",
   "execution_count": 30,
   "metadata": {},
   "outputs": [
    {
     "name": "stdout",
     "output_type": "stream",
     "text": [
      "> i work for an oil company .\n",
      "= trabajo para una compania petrolera .\n",
      "< compania a compania compania compania compania compania a compania . <EOS>\n",
      "\n",
      "> was i really boring ?\n",
      "=  era tan pesado ?\n",
      "<  realmente estaba estaba de de de ? ? ? ? ?\n",
      "\n",
      "> can it be repaired ?\n",
      "=  se puede reparar ?\n",
      "< puede puede ser puede ser puede ser ? <EOS>\n",
      "\n",
      "> we could not swallow his story .\n",
      "= no nos pudimos tragar su historia .\n",
      "< no nos historia historia su historia historia su historia historia . <EOS>\n",
      "\n",
      "> can t we fire tom ?\n",
      "=  podemos despedir a tom ?\n",
      "<  podemos podemos no podemos tom tom tom tom ? ? <EOS>\n",
      "\n",
      "> tom has done what we expected him to do .\n",
      "= tom ha hecho lo que esperabamos que hiciera .\n",
      "< tom nos lo que lo que lo que hacer hacer . <EOS>\n",
      "\n",
      "> he gave his life for his country .\n",
      "= el dio la vida por su pais .\n",
      "< su vida su su vida su vida su su vida . <EOS>\n",
      "\n",
      "> she is a famous singer .\n",
      "= es una cantante famosa .\n",
      "< ella es una famoso famoso famoso famoso famoso . <EOS>\n",
      "\n",
      "> i don t want to go .\n",
      "= no quiero ir .\n",
      "< quiero que ir ir ir ir ir ir . <EOS>\n",
      "\n",
      "> he felt a pain in his back .\n",
      "= el sintio un dolor en su espalda .\n",
      "< su un su su en su su en su <EOS>\n",
      "\n",
      "> that ll do .\n",
      "= con eso vale .\n",
      "< eso eso hara que el que que . <EOS>\n",
      "\n",
      "> there is a lot of furniture in this room .\n",
      "= hay muchos muebles en este cuarto .\n",
      "< hay muchas muebles en la sala en la sala . <EOS>\n",
      "\n",
      "> is she so foolish as to believe that ?\n",
      "=  es ella tan tonta como para creer tal cosa ?\n",
      "<  como es tan que como que que ella ? ? ?\n",
      "\n",
      "> that s exactly what i want .\n",
      "= eso es justo lo que quiero .\n",
      "< eso exactamente exactamente exactamente que lo que quiero el . <EOS>\n",
      "\n",
      "> which is stronger a tiger or a lion ?\n",
      "=  que es mas fuerte un tigre o un leon ?\n",
      "<  que es un un importante o en en ? ? ?\n",
      "\n",
      "> where s your backpack ?\n",
      "=  donde esta tu mochila ?\n",
      "<  donde esta tu donde donde esta tu ? ? ? <EOS>\n",
      "\n",
      "> i never dreamed that i would win first prize .\n",
      "= nunca sone que ganaria el primer premio .\n",
      "< nunca me voy que voy a primera un primer <EOS>\n",
      "\n",
      "> beer is not really so unhealthy at least in moderation .\n",
      "= la cerveza no es tan perjudicial al menos con moderacion .\n",
      "< la mujer es no tan no no es tan <EOS>\n",
      "\n",
      "> i m only doing my job .\n",
      "= solo estoy haciendo mi trabajo .\n",
      "< solo no solo mi trabajo trabajo haciendo mi trabajo trabajo . <EOS>\n",
      "\n",
      "> it s obsolete .\n",
      "= es obsoleto .\n",
      "< esta es de de que esta es de de . . <EOS>\n",
      "\n",
      "> he often takes his children to the zoo .\n",
      "= cada tanto el lleva a sus hijos al zoologico .\n",
      "< el menudo menudo menudo sus ninos ninos en sus hijos . <EOS>\n",
      "\n",
      "> i m tom s brother .\n",
      "= soy el hermano de tom .\n",
      "< tom soy que hermano hermano es es hermano hermano . <EOS>\n",
      "\n",
      "> this thin book is mine .\n",
      "= este delgado libro es mio .\n",
      "< este libro esta libro es de para de esta . . <EOS>\n",
      "\n",
      "> i don t like to be stared at .\n",
      "= no me gusta que me miren .\n",
      "< no no ser como ser no no ser en en . <EOS>\n",
      "\n",
      "> it took her a long time to choose a hat .\n",
      "= ella tardo mucho tiempo en escoger un sombrero .\n",
      "< ella se su mucho dinero para para su una <EOS>\n",
      "\n",
      "> i was humiliated in public .\n",
      "= fui humillada en publico .\n",
      "< me fue en la en de en . . <EOS>\n",
      "\n",
      "> you can leave your hat on .\n",
      "= puedes dejarte el sombrero puesto .\n",
      "< puedes puedes la sombrero sombrero en la universidad de la universidad .\n",
      "\n",
      "> tom felt dizzy from the heat .\n",
      "= tom se sintio mareado por el calor .\n",
      "< tom se la la la la la la . . . <EOS>\n",
      "\n",
      "> tom ruined my weekend .\n",
      "= tom me arruino el fin de semana .\n",
      "< tom fin mi fin de fin de fin de mi fin .\n",
      "\n",
      "> tom has lost his voice .\n",
      "= tom perdio su voz .\n",
      "< tom perdio la voz para la voz voz . <EOS>\n",
      "\n"
     ]
    }
   ],
   "source": [
    "# sample some random entries\n",
    "\n",
    "for i in range(30):\n",
    "    pair = random.choice(samples)\n",
    "    evaluate_pair(encoder, attn_decoder, pair, eng, spa)"
   ]
  },
  {
   "cell_type": "code",
   "execution_count": null,
   "metadata": {},
   "outputs": [],
   "source": []
  }
 ],
 "metadata": {
  "kernelspec": {
   "display_name": "Python 3",
   "language": "python",
   "name": "python3"
  },
  "language_info": {
   "codemirror_mode": {
    "name": "ipython",
    "version": 3
   },
   "file_extension": ".py",
   "mimetype": "text/x-python",
   "name": "python",
   "nbconvert_exporter": "python",
   "pygments_lexer": "ipython3",
   "version": "3.6.8"
  }
 },
 "nbformat": 4,
 "nbformat_minor": 4
}
